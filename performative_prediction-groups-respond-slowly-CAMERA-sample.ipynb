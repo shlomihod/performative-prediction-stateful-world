{
 "cells": [
  {
   "cell_type": "markdown",
   "metadata": {},
   "source": [
    "# Performative Prediction: A Case Study in Strategic Classification\n",
    "# $k$ Groups Repond Slowly\n",
    "\n",
    "Based on: https://github.com/zykls/whynot/tree/master/examples/dynamic_decisions"
   ]
  },
  {
   "cell_type": "code",
   "execution_count": 1,
   "metadata": {},
   "outputs": [],
   "source": [
    "%load_ext autoreload\n",
    "%autoreload 2\n",
    "\n",
    "import pickle\n",
    "from pathlib import Path\n",
    "from collections import defaultdict\n",
    "\n",
    "import numpy as np\n",
    "import pandas as pd\n",
    "import matplotlib.pyplot as plt\n",
    "import seaborn as sns\n",
    "from tqdm import trange\n",
    "from sklearn.model_selection import KFold, StratifiedKFold\n",
    "\n",
    "import whynot as wn\n",
    "import whynot.gym as gym\n",
    "\n",
    "import scripts.utils as utils\n",
    "\n",
    "%matplotlib inline"
   ]
  },
  {
   "cell_type": "code",
   "execution_count": 2,
   "metadata": {},
   "outputs": [],
   "source": [
    "DEMO_N_GROUPS = 3\n",
    "\n",
    "EPSILON_COL = r'$\\varepsilon$'\n",
    "VALUE_OF_EPSILON = f'Value of {EPSILON_COL}'"
   ]
  },
  {
   "cell_type": "markdown",
   "metadata": {},
   "source": [
    "## Setting up the strategic classification environment\n",
    "\n",
    "We use the [credit simulator](https://whynot.readthedocs.io/en/latest/simulators.html#credit-simulator), which is a strategic classification simulator based on the Kaggle [*Give Me Some Credit* dataset](https://www.kaggle.com/c/GiveMeSomeCredit)."
   ]
  },
  {
   "cell_type": "code",
   "execution_count": 3,
   "metadata": {
    "scrolled": true
   },
   "outputs": [],
   "source": [
    "envs = []\n",
    "for _ in range(DEMO_N_GROUPS):\n",
    "    env = gym.make('Credit-v0')\n",
    "    env.seed(1)\n",
    "    envs.append(env)"
   ]
  },
  {
   "cell_type": "code",
   "execution_count": 4,
   "metadata": {},
   "outputs": [],
   "source": [
    "def get_data(datasets, combine=True):\n",
    "    features, labels = zip(*((dataset['features'], dataset['labels']) for dataset in datasets))\n",
    "    if combine:\n",
    "        features = np.vstack(features)\n",
    "        labels = np.hstack(labels)\n",
    "    return features, labels"
   ]
  },
  {
   "cell_type": "markdown",
   "metadata": {},
   "source": [
    "## Training a baseline logistic regression classifier\n",
    "\n",
    "The state of the environment is a dataset consisting of (1) financial features of individuals, e.g. `DebtRatio`, and (2) a binary label indicating whether an individual experienced financial distress in the subsequent two years. "
   ]
  },
  {
   "cell_type": "code",
   "execution_count": 5,
   "metadata": {},
   "outputs": [
    {
     "name": "stdout",
     "output_type": "stream",
     "text": [
      "The dataset has 55071 agents and 11 features.\n",
      "Base rate: 0.4552486789780465\n"
     ]
    }
   ],
   "source": [
    "base_datasets = (env.initial_state.values() for env in envs)\n",
    "base_features, base_labels = get_data(base_datasets)\n",
    "num_agents, num_features = base_features.shape\n",
    "print(f\"The dataset has {num_agents} agents and {num_features} features.\")\n",
    "print(\"Base rate:\", base_labels.mean())"
   ]
  },
  {
   "cell_type": "markdown",
   "metadata": {},
   "source": [
    "Fit a logistic regression model to the data"
   ]
  },
  {
   "cell_type": "code",
   "execution_count": 6,
   "metadata": {},
   "outputs": [
    {
     "name": "stdout",
     "output_type": "stream",
     "text": [
      "Baseline logistic regresion model accuracy: 72.07%\n"
     ]
    }
   ],
   "source": [
    "l2_penalty = 1.0 / num_agents\n",
    "baseline_theta = utils.fit_logistic_regression(base_features, base_labels, l2_penalty)\n",
    "baseline_acc = ((base_features.dot(baseline_theta) > 0)  == base_labels).mean()\n",
    "print(f\"Baseline logistic regresion model accuracy: {100 * baseline_acc:.2f}%\")"
   ]
  },
  {
   "cell_type": "code",
   "execution_count": 7,
   "metadata": {},
   "outputs": [
    {
     "data": {
      "text/plain": [
       "1.7497371719683321"
      ]
     },
     "execution_count": 7,
     "metadata": {},
     "output_type": "execute_result"
    }
   ],
   "source": [
    "np.abs(baseline_theta).max()"
   ]
  },
  {
   "cell_type": "markdown",
   "metadata": {},
   "source": [
    "## Running repeated risk minimization\n",
    "\n",
    "Using the credit environment, we simulate repeated retraining of the logistic regression model in response to\n",
    "strategic distribution shift. We perform `num_iters` rounds. In each round:\n",
    "1. We train an logistic regression classifier on the current set of features\n",
    "2. The classifier is deployed via `env.step(theta)`\n",
    "3. In the environment, individuals react strategically to the deployed classifier, and the environment returns a new set of fetaures for the next round.\n",
    "\n",
    "The parameter `epsilon` changes the strength of the strategic response. Higher values of epsilon correspond to proportionally more strategic distribution shift. Each run is warm-started with the `baseline_theta` classifier computed without strategic response."
   ]
  },
  {
   "cell_type": "code",
   "execution_count": 8,
   "metadata": {},
   "outputs": [],
   "source": [
    "def update_start_stats_inplace(observations, theta, l2_penalty,\n",
    "                               loss_start, acc_start, loss_groups_start, acc_groups_start,\n",
    "                               fpr_groups_start, nr_groups_start):\n",
    "\n",
    "    features_start, labels = get_data(observations)\n",
    "    print(\"XXX\", len(labels))\n",
    "    observations_groups = get_data(observations, combine=False)\n",
    "\n",
    "    # Evaluate loss and accuracy on the new distribution\n",
    "    loss_start.append(\n",
    "        utils.evaluate_logistic_loss(features_start, labels, theta, l2_penalty))\n",
    "    acc_start.append(\n",
    "        ((features_start.dot(theta) > 0) == labels).mean()\n",
    "    )\n",
    "\n",
    "    # Evaluate per-group loss, accurcay, FPR and NR on the new distribution\n",
    "    loss_groups_start.append(\n",
    "        [utils.evaluate_logistic_loss(group_features, group_labels, theta, l2_penalty)\n",
    "         for group_features, group_labels in zip(*observations_groups)])\n",
    "\n",
    "    acc_groups_start.append(\n",
    "        [((group_features.dot(theta) > 0) == group_labels).mean()\n",
    "         for group_features, group_labels in zip(*observations_groups)])\n",
    "\n",
    "    fpr_groups_start.append(\n",
    "        [(\n",
    "            ((group_features.dot(theta) > 0) & (group_labels == 0)).sum()  # FP\n",
    "            / (group_labels == 0).sum())  # FP + TN\n",
    "         for group_features, group_labels in zip(*observations_groups)])\n",
    "\n",
    "    nr_groups_start.append(\n",
    "        [(group_features.dot(theta) < 0).mean()\n",
    "         for group_features, group_labels in zip(*observations_groups)])\n",
    "    \n",
    "    return features_start, labels, observations_groups"
   ]
  },
  {
   "cell_type": "code",
   "execution_count": 9,
   "metadata": {},
   "outputs": [],
   "source": [
    "def build_world(num_groups, epsilon, random_state):\n",
    "    \n",
    "    base_env = gym.make('Credit-v0')\n",
    "    kf = KFold(3, shuffle=True, random_state=random_state)\n",
    "    group_splits = kf.split(base_env.env.state.features, base_env.env.state.labels)\n",
    "    local_envs = []\n",
    "    for _, indices in group_splits:\n",
    "        env = gym.make('Credit-v0')\n",
    "        env.config.epsilon = epsilon\n",
    "        env.reset()\n",
    "        \n",
    "        env.env.state.features = base_env.env.state.features[indices, :]\n",
    "        env.env.initial_state.features = base_env.env.initial_state.features[indices, :]\n",
    "        env.config.base_state.features = base_env.config.base_state.features[indices, :]\n",
    "        \n",
    "        env.env.state.labels = base_env.env.state.labels[indices]\n",
    "        env.env.initial_state.labels = base_env.env.initial_state.labels[indices]\n",
    "        env.config.base_state.labels = base_env.config.base_state.labels[indices]\n",
    "        \n",
    "        env.reset()\n",
    "        local_envs.append(env)\n",
    "\n",
    "    return local_envs"
   ]
  },
  {
   "cell_type": "code",
   "execution_count": 10,
   "metadata": {},
   "outputs": [],
   "source": [
    "def repeated_risk_minimization(epsilon, num_groups, num_steps, is_delayed, random_state):\n",
    "    \"\"\"Run repeated risk minimization for num_iters steps\"\"\"\n",
    "\n",
    "#     base_env = gym.make('Credit-v0')\n",
    "#     skf = StratifiedKFold(3, shuffle=True, random_state=42)\n",
    "#     group_splits = skf.split(base_env.env.state.features, base_env.env.state.labels)\n",
    "#     local_envs = []\n",
    "#     for _, indices in group_splits:\n",
    "#         env = gym.make('Credit-v0')\n",
    "#         env.config.epsilon = epsilon\n",
    "#         env.reset()\n",
    "#         env.env.state.features = env.env.state.features[indices, :]\n",
    "#         env.env.state.labels = env.env.state.labels[indices]\n",
    "#         local_envs.append(env)\n",
    "    local_envs = build_world(num_groups, epsilon, random_state)\n",
    "\n",
    "    \n",
    "    # 1. Trach theta gap \n",
    "    # 2. Track loss and accuracy before/after updating model on new distribution\n",
    "    # 3. Trach per-group loss, accurcay, FPR and NR before updating model on new distribution\n",
    "    loss_start, loss_end, acc_start, acc_end, thetas, theta_gap = [], [], [], [], [], []\n",
    "    loss_groups_start, loss_groups_end, acc_groups_start, fpr_groups_start, nr_groups_start = [], [], [], [], []\n",
    "    \n",
    "#     if not random_initialization:\n",
    "#         observations = [env.initial_state.values() for env in local_envs]\n",
    "#     if random_initialization:\n",
    "#         rng = np.random.default_rng(random_seed)\n",
    "#         #size = envs[0].initial_state.values()['features'].shape[1]\n",
    "#         #random_initialization_thetas = [ for _ in range(num_groups)]\n",
    "#         scale = env.env.state.features.std(axis=0) / 10000\n",
    "#         observations = []\n",
    "#         for env in local_envs:\n",
    "#             env.env.state.features += rng.normal(scale=scale, size=env.env.state.features.shape)\n",
    "#             assert (env.env.state.features == env.initial_state.values()['features']).all()\n",
    "# #         observations = [env.step(init_theta)[0]\n",
    "# #                         for env, init_theta in zip(local_envs, random_initialization_thetas)]\n",
    "    \n",
    "    observations = [env.initial_state.values() for env in local_envs]\n",
    "\n",
    "    # Compute baseline classifier\n",
    "    base_features, base_labels = get_data(observations)\n",
    "    num_agents, num_features = base_features.shape\n",
    "    l2_penalty = 1.0 / num_agents\n",
    "    baseline_theta = utils.fit_logistic_regression(base_features, base_labels, l2_penalty)\n",
    "\n",
    "    # Warm-start with baseline classifier\n",
    "    theta = np.copy(baseline_theta)\n",
    "    thetas.append(theta)\n",
    "    \n",
    "    # Set l2 penalty\n",
    "    for env in local_envs:\n",
    "        env.config.l2_penalty = l2_penalty\n",
    "    \n",
    "    update_start_stats_inplace(observations, theta, l2_penalty,\n",
    "                                   loss_start, acc_start, loss_groups_start, acc_groups_start,\n",
    "                                   fpr_groups_start, nr_groups_start)\n",
    "\n",
    "    for step in trange(num_steps):\n",
    "        \n",
    "        # Update the latest group\n",
    "        # and shift backward\n",
    "        observations = observations[1:] + observations[0:1]\n",
    "        local_envs = local_envs[1:] + local_envs[0:1]\n",
    "        observations[-1], _, _, _ = local_envs[-1].step(theta)\n",
    "\n",
    "        features_start, labels, observations_groups = update_start_stats_inplace(observations, theta, l2_penalty,\n",
    "                                       loss_start, acc_start, loss_groups_start, acc_groups_start,\n",
    "                                       fpr_groups_start, nr_groups_start)\n",
    "\n",
    "\n",
    "        # Update classifier if (1) the algoirthm is RRM (not delayd);\n",
    "        # or (2) it is the k-th iteration in Delayd RRM\n",
    "        if not is_delayed or step % num_groups == 0:\n",
    "            # Learn a new model on the induced distribution\n",
    "            theta_new = utils.fit_logistic_regression(features_start, labels, l2_penalty,\n",
    "                                                      theta_init=np.copy(theta))\n",
    "        \n",
    "        # Evaluate loss and accuracy on the strategic distribution after training\n",
    "        loss_end.append(\n",
    "            utils.evaluate_logistic_loss(features_start, labels, theta_new, l2_penalty)\n",
    "        )\n",
    "        acc_end.append(\n",
    "            ((features_start.dot(theta_new) > 0) == labels).mean()\n",
    "        )\n",
    "        loss_groups_end.append(\n",
    "            [utils.evaluate_logistic_loss(group_features, group_labels, theta_new, l2_penalty)\n",
    "             for group_features, group_labels in zip(*observations_groups)])\n",
    "\n",
    "        \n",
    "        # Track distance between iterates\n",
    "        theta_gap.append(np.linalg.norm(theta_new - theta))\n",
    "        \n",
    "        theta = np.copy(theta_new)\n",
    "        \n",
    "        thetas.append(theta)\n",
    "        \n",
    "    return (loss_start, loss_end, acc_start, acc_end, thetas, theta_gap,\n",
    "            loss_groups_start, loss_groups_end, acc_groups_start, fpr_groups_start, nr_groups_start)"
   ]
  },
  {
   "cell_type": "code",
   "execution_count": 11,
   "metadata": {},
   "outputs": [],
   "source": [
    "def run_rrm_experiment(epsilon_list, num_groups_list, num_iters, is_delayed, random_state):\n",
    "\n",
    "    loss_starts, acc_starts, loss_ends, acc_ends, thetas_, theta_gaps = (defaultdict(dict), defaultdict(dict),\n",
    "                                                                defaultdict(dict), defaultdict(dict),\n",
    "                                                                defaultdict(dict), defaultdict(dict))\n",
    "    loss_groups_starts, loss_groups_ends, acc_groups_starts, fpr_groups_starts, nr_groups_starts = (defaultdict(dict), defaultdict(dict),\n",
    "                                                                                  defaultdict(dict), defaultdict(dict),\n",
    "                                                                                  defaultdict(dict))\n",
    "\n",
    "    for num_groups in num_groups_list:\n",
    "        for _, epsilon in enumerate(epsilon_list):\n",
    "            print(f'Running retraining for num_groups {num_groups} epsilon {epsilon:.2f}')\n",
    "\n",
    "            (loss_start, loss_end, acc_start, acc_end, thetas, theta_gap,\n",
    "             loss_groups_start, loss_groups_end, acc_groups_start,\n",
    "             fpr_groups_start, nr_groups_start) = repeated_risk_minimization(epsilon, num_groups,\n",
    "                                                                             num_iters, is_delayed,\n",
    "                                                                             random_state)\n",
    "\n",
    "            loss_starts[num_groups][epsilon] = loss_start\n",
    "            loss_ends[num_groups][epsilon] = loss_end\n",
    "            \n",
    "            acc_starts[num_groups][epsilon] = acc_start\n",
    "            acc_ends[num_groups][epsilon] = acc_end\n",
    "            \n",
    "            thetas_[num_groups][epsilon] = thetas\n",
    "            theta_gaps[num_groups][epsilon] = theta_gap\n",
    "            \n",
    "            loss_groups_starts[num_groups][epsilon] = loss_groups_start\n",
    "            loss_groups_ends[num_groups][epsilon] = loss_groups_end\n",
    "            \n",
    "            acc_groups_starts[num_groups][epsilon] = acc_groups_start\n",
    "            fpr_groups_starts[num_groups][epsilon] = fpr_groups_start\n",
    "            nr_groups_starts[num_groups][epsilon] = nr_groups_start\n",
    "        \n",
    "    return (loss_starts, acc_starts, loss_ends, acc_ends,\n",
    "            thetas_, theta_gaps, loss_groups_starts, loss_groups_ends,\n",
    "            acc_groups_starts, fpr_groups_starts, nr_groups_starts)"
   ]
  },
  {
   "cell_type": "code",
   "execution_count": 12,
   "metadata": {},
   "outputs": [
    {
     "name": "stdout",
     "output_type": "stream",
     "text": [
      "\tseed=191664963\n",
      "\t\tmode=regular\n",
      "Running retraining for num_groups 1 epsilon 1.00\n"
     ]
    },
    {
     "name": "stderr",
     "output_type": "stream",
     "text": [
      "100%|██████████| 300/300 [00:08<00:00, 37.34it/s]\n"
     ]
    },
    {
     "name": "stdout",
     "output_type": "stream",
     "text": [
      "Running retraining for num_groups 1 epsilon 25.00\n"
     ]
    },
    {
     "name": "stderr",
     "output_type": "stream",
     "text": [
      "100%|██████████| 300/300 [00:12<00:00, 24.13it/s]\n"
     ]
    },
    {
     "name": "stdout",
     "output_type": "stream",
     "text": [
      "Running retraining for num_groups 1 epsilon 75.00\n"
     ]
    },
    {
     "name": "stderr",
     "output_type": "stream",
     "text": [
      "100%|██████████| 300/300 [00:27<00:00, 10.93it/s]\n"
     ]
    },
    {
     "name": "stdout",
     "output_type": "stream",
     "text": [
      "Running retraining for num_groups 3 epsilon 1.00\n"
     ]
    },
    {
     "name": "stderr",
     "output_type": "stream",
     "text": [
      "100%|██████████| 300/300 [00:06<00:00, 47.23it/s]\n"
     ]
    },
    {
     "name": "stdout",
     "output_type": "stream",
     "text": [
      "Running retraining for num_groups 3 epsilon 25.00\n"
     ]
    },
    {
     "name": "stderr",
     "output_type": "stream",
     "text": [
      "100%|██████████| 300/300 [00:42<00:00,  7.13it/s]\n"
     ]
    },
    {
     "name": "stdout",
     "output_type": "stream",
     "text": [
      "Running retraining for num_groups 3 epsilon 75.00\n"
     ]
    },
    {
     "name": "stderr",
     "output_type": "stream",
     "text": [
      "100%|██████████| 300/300 [00:32<00:00,  9.36it/s]\n"
     ]
    },
    {
     "name": "stdout",
     "output_type": "stream",
     "text": [
      "\t\tDone!\n",
      "\t\tmode=delayed\n",
      "Running retraining for num_groups 1 epsilon 1.00\n"
     ]
    },
    {
     "name": "stderr",
     "output_type": "stream",
     "text": [
      "100%|██████████| 300/300 [00:06<00:00, 43.15it/s]\n"
     ]
    },
    {
     "name": "stdout",
     "output_type": "stream",
     "text": [
      "Running retraining for num_groups 1 epsilon 25.00\n"
     ]
    },
    {
     "name": "stderr",
     "output_type": "stream",
     "text": [
      "100%|██████████| 300/300 [00:10<00:00, 28.13it/s]\n"
     ]
    },
    {
     "name": "stdout",
     "output_type": "stream",
     "text": [
      "Running retraining for num_groups 1 epsilon 75.00\n"
     ]
    },
    {
     "name": "stderr",
     "output_type": "stream",
     "text": [
      "100%|██████████| 300/300 [00:22<00:00, 13.17it/s]\n"
     ]
    },
    {
     "name": "stdout",
     "output_type": "stream",
     "text": [
      "Running retraining for num_groups 3 epsilon 1.00\n"
     ]
    },
    {
     "name": "stderr",
     "output_type": "stream",
     "text": [
      "100%|██████████| 300/300 [00:04<00:00, 68.74it/s]\n"
     ]
    },
    {
     "name": "stdout",
     "output_type": "stream",
     "text": [
      "Running retraining for num_groups 3 epsilon 25.00\n"
     ]
    },
    {
     "name": "stderr",
     "output_type": "stream",
     "text": [
      "100%|██████████| 300/300 [00:10<00:00, 27.78it/s]\n"
     ]
    },
    {
     "name": "stdout",
     "output_type": "stream",
     "text": [
      "Running retraining for num_groups 3 epsilon 75.00\n"
     ]
    },
    {
     "name": "stderr",
     "output_type": "stream",
     "text": [
      "100%|██████████| 300/300 [00:33<00:00,  8.97it/s]\n"
     ]
    },
    {
     "name": "stdout",
     "output_type": "stream",
     "text": [
      "\t\tDone!\n",
      "\tseed=1662057957\n",
      "\t\tmode=regular\n",
      "Running retraining for num_groups 1 epsilon 1.00\n"
     ]
    },
    {
     "name": "stderr",
     "output_type": "stream",
     "text": [
      "100%|██████████| 300/300 [00:06<00:00, 43.53it/s]\n"
     ]
    },
    {
     "name": "stdout",
     "output_type": "stream",
     "text": [
      "Running retraining for num_groups 1 epsilon 25.00\n"
     ]
    },
    {
     "name": "stderr",
     "output_type": "stream",
     "text": [
      "100%|██████████| 300/300 [00:17<00:00, 17.53it/s]\n"
     ]
    },
    {
     "name": "stdout",
     "output_type": "stream",
     "text": [
      "Running retraining for num_groups 1 epsilon 75.00\n"
     ]
    },
    {
     "name": "stderr",
     "output_type": "stream",
     "text": [
      "100%|██████████| 300/300 [01:05<00:00,  4.60it/s]\n"
     ]
    },
    {
     "name": "stdout",
     "output_type": "stream",
     "text": [
      "Running retraining for num_groups 3 epsilon 1.00\n"
     ]
    },
    {
     "name": "stderr",
     "output_type": "stream",
     "text": [
      "100%|██████████| 300/300 [00:13<00:00, 23.00it/s]\n"
     ]
    },
    {
     "name": "stdout",
     "output_type": "stream",
     "text": [
      "Running retraining for num_groups 3 epsilon 25.00\n"
     ]
    },
    {
     "name": "stderr",
     "output_type": "stream",
     "text": [
      "100%|██████████| 300/300 [00:13<00:00, 21.53it/s]\n"
     ]
    },
    {
     "name": "stdout",
     "output_type": "stream",
     "text": [
      "Running retraining for num_groups 3 epsilon 75.00\n"
     ]
    },
    {
     "name": "stderr",
     "output_type": "stream",
     "text": [
      "100%|██████████| 300/300 [00:44<00:00,  6.78it/s]\n"
     ]
    },
    {
     "name": "stdout",
     "output_type": "stream",
     "text": [
      "\t\tDone!\n",
      "\t\tmode=delayed\n",
      "Running retraining for num_groups 1 epsilon 1.00\n"
     ]
    },
    {
     "name": "stderr",
     "output_type": "stream",
     "text": [
      "100%|██████████| 300/300 [00:08<00:00, 36.77it/s]\n"
     ]
    },
    {
     "name": "stdout",
     "output_type": "stream",
     "text": [
      "Running retraining for num_groups 1 epsilon 25.00\n"
     ]
    },
    {
     "name": "stderr",
     "output_type": "stream",
     "text": [
      "100%|██████████| 300/300 [00:13<00:00, 21.67it/s]\n"
     ]
    },
    {
     "name": "stdout",
     "output_type": "stream",
     "text": [
      "Running retraining for num_groups 1 epsilon 75.00\n"
     ]
    },
    {
     "name": "stderr",
     "output_type": "stream",
     "text": [
      "100%|██████████| 300/300 [00:41<00:00,  7.31it/s]\n"
     ]
    },
    {
     "name": "stdout",
     "output_type": "stream",
     "text": [
      "Running retraining for num_groups 3 epsilon 1.00\n"
     ]
    },
    {
     "name": "stderr",
     "output_type": "stream",
     "text": [
      "100%|██████████| 300/300 [00:06<00:00, 45.92it/s]\n"
     ]
    },
    {
     "name": "stdout",
     "output_type": "stream",
     "text": [
      "Running retraining for num_groups 3 epsilon 25.00\n"
     ]
    },
    {
     "name": "stderr",
     "output_type": "stream",
     "text": [
      "100%|██████████| 300/300 [00:12<00:00, 24.95it/s]\n"
     ]
    },
    {
     "name": "stdout",
     "output_type": "stream",
     "text": [
      "Running retraining for num_groups 3 epsilon 75.00\n"
     ]
    },
    {
     "name": "stderr",
     "output_type": "stream",
     "text": [
      "100%|██████████| 300/300 [00:32<00:00,  9.20it/s]\n"
     ]
    },
    {
     "name": "stdout",
     "output_type": "stream",
     "text": [
      "\t\tDone!\n",
      "Saving...\n",
      "Done!\n"
     ]
    }
   ],
   "source": [
    "path = Path('./data.pckl')\n",
    "epsilon_list = [1., 25., 75.]#, 75] # [0.01, 0.1, 1, 5, 10, 25, 75]\n",
    "num_groups_list = [1, 3]# , 5 1, , 5] # [1, 2, 3, 5, 7, 10]\n",
    "num_iters = 300\n",
    "N_INITS = 2\n",
    "\n",
    "\n",
    "if False: #path.exists():\n",
    "    with open(path, 'rb') as f:\n",
    "        data = pickle.load(f)\n",
    "#         (loss_starts, acc_starts, loss_ends, acc_ends, thetas_, theta_gaps,\n",
    "#          loss_groups_starts, loss_groups_ends,\n",
    "#          acc_groups_starts, fpr_groups_starts, nr_groups_starts) = data['regular']\n",
    "        \n",
    "#         (dloss_starts, dacc_starts, dloss_ends, dacc_ends, dthetas_, dtheta_gaps,\n",
    "#          dloss_groups_starts, dloss_groups_ends,\n",
    "#          dacc_groups_starts, dfpr_groups_starts, dnr_groups_starts) = data['delayed']\n",
    "        \n",
    "else:\n",
    "    data = defaultdict(dict)\n",
    "    \n",
    "    seed_rng = np.random.default_rng(42)\n",
    "    seeds = [seed_rng.integers(low=0, high=2**31-1) for n in range(N_INITS)]\n",
    "    \n",
    "    for seed in seeds:\n",
    "        print(f'\\tseed={seed}')\n",
    "            \n",
    "        # RRM       k-Delayed RRM\n",
    "        for mode in ['regular', 'delayed']:\n",
    "            print(f'\\t\\tmode={mode}')\n",
    "            is_delayed = (mode == 'delayed')\n",
    "            (loss_starts, acc_starts, loss_ends, acc_ends, thetas_, theta_gaps,\n",
    "             loss_groups_starts, loss_groups_ends,\n",
    "             acc_groups_starts, fpr_groups_starts, nr_groups_starts) = run_rrm_experiment(epsilon_list,\n",
    "                                                                                          num_groups_list,\n",
    "                                                                                          num_iters,\n",
    "                                                                                          is_delayed,\n",
    "                                                                                          seed)\n",
    "            print('\\t\\tDone!')\n",
    "\n",
    "\n",
    "\n",
    "            data[seed][mode] = (loss_starts, acc_starts, loss_ends, acc_ends, thetas_, theta_gaps,\n",
    "                                loss_groups_starts, loss_groups_ends,\n",
    "                                acc_groups_starts, fpr_groups_starts, nr_groups_starts)\n",
    "\n",
    "    print(\"Saving...\")\n",
    "    with open(path, 'wb') as f:\n",
    "        pickle.dump(data, f)\n",
    "    print(\"Done!\")"
   ]
  },
  {
   "cell_type": "code",
   "execution_count": 13,
   "metadata": {},
   "outputs": [],
   "source": [
    "def create_long_df(tg, col, as_str=('epsilon', 'num_groups'), with_group=False, is_training_step=False):\n",
    "    if not with_group:\n",
    "        df = pd.DataFrame([{col: val, 'step': step, 'epsilon': epsilon, 'num_groups': num_groups}\n",
    "                             for num_groups, d_eps_gap in tg.items()\n",
    "                             for epsilon, gaps in d_eps_gap.items()\n",
    "                             for step, val in enumerate(gaps[::num_groups if is_training_step else 1])])\n",
    "    else:\n",
    "        df = pd.DataFrame([{col: val, 'step': step, 'epsilon': epsilon, 'group_num': num_groups-group_num, 'num_groups': num_groups}\n",
    "                             for num_groups, d_eps_grp_gap in tg.items()\n",
    "                             for epsilon, d_grp_gaps in d_eps_grp_gap.items()\n",
    "                             for step, gaps in enumerate(d_grp_gaps)\n",
    "                             for group_num, val in enumerate(gaps[::num_groups if is_training_step else 1])])\n",
    "\n",
    "    for c in as_str:\n",
    "        df[c] = df[c].astype(str)\n",
    "\n",
    "    return df"
   ]
  },
  {
   "cell_type": "markdown",
   "metadata": {},
   "source": [
    "## Visualization"
   ]
  },
  {
   "cell_type": "code",
   "execution_count": 14,
   "metadata": {},
   "outputs": [
    {
     "data": {
      "text/plain": [
       "dict_keys([191664963, 1662057957])"
      ]
     },
     "execution_count": 14,
     "metadata": {},
     "output_type": "execute_result"
    }
   ],
   "source": [
    "data.keys()"
   ]
  },
  {
   "cell_type": "code",
   "execution_count": 17,
   "metadata": {},
   "outputs": [],
   "source": [
    "# random_seed = 1662057957\n",
    "\n",
    "# (loss_starts, acc_starts, loss_ends, acc_ends, thetas_, theta_gaps,\n",
    "#  loss_groups_starts, loss_groups_ends,\n",
    "#  acc_groups_starts, fpr_groups_starts, nr_groups_starts) = data[random_seed]['regular']\n",
    "\n",
    "# (dloss_starts, dacc_starts, dloss_ends, dacc_ends, dthetas_, dtheta_gaps,\n",
    "#  dloss_groups_starts, dloss_groups_ends,\n",
    "#  dacc_groups_starts, dfpr_groups_starts, dnr_groups_starts) = data[random_seed]['delayed']"
   ]
  },
  {
   "cell_type": "code",
   "execution_count": 18,
   "metadata": {},
   "outputs": [],
   "source": [
    "theta_gaps_dfs = []\n",
    "acc_starts_dfs = []\n",
    "nr_groups_start_dfs = []\n",
    "\n",
    "for random_seed in data.keys():\n",
    "\n",
    "    (loss_starts, acc_starts, loss_ends, acc_ends, thetas_, theta_gaps,\n",
    "     loss_groups_starts, loss_groups_ends,\n",
    "     acc_groups_starts, fpr_groups_starts, nr_groups_starts) = data[random_seed]['regular']\n",
    "\n",
    "    (dloss_starts, dacc_starts, dloss_ends, dacc_ends, dthetas_, dtheta_gaps,\n",
    "     dloss_groups_starts, dloss_groups_ends,\n",
    "     dacc_groups_starts, dfpr_groups_starts, dnr_groups_starts) = data[random_seed]['delayed']\n",
    "    \n",
    "    \n",
    "    theta_gaps_dfs.append(pd.concat([create_long_df(theta_gaps, 'gap')\n",
    "                            .assign(Algorithm='RRM'),\n",
    "                           create_long_df(dtheta_gaps, 'gap', is_training_step=True)\n",
    "                            .assign(Algorithm='$k$-Delayed RRM')])\n",
    "                 .rename({'epsilon': EPSILON_COL}, axis=1))\n",
    "    \n",
    "    \n",
    "    \n",
    "    acc_starts_dfs.append(pd.concat([create_long_df(acc_starts, 'Accuracy (%)')\n",
    "                                .assign(Algorithm='RRM'),\n",
    "                                create_long_df(dacc_starts, 'Accuracy (%)', is_training_step=False)\n",
    "                                .assign(Algorithm='$k$-Delayed RRM')])\n",
    "                    .rename({'epsilon': VALUE_OF_EPSILON} , axis=1))\n",
    "\n",
    "    \n",
    "    nr_groups_start_dfs.append(pd.concat([create_long_df(nr_groups_starts, 'Negative Rate (%)',\n",
    "                                                as_str=('epsilon', 'num_groups', 'group_num'), with_group=True)\n",
    "                                 .assign(Algorithm='RRM'),\n",
    "                            create_long_df(dnr_groups_starts, 'Negative Rate (%)',\n",
    "                                           as_str=('epsilon', 'num_groups', 'group_num'), with_group=True)\n",
    "                                 .assign(Algorithm='$k$-Delayed RRM')])\n",
    "                .rename({'epsilon': EPSILON_COL, 'group_num': 'Group'}, axis=1))\n",
    "\n",
    "    \n",
    "theta_gaps_df = pd.concat(theta_gaps_dfs)\n",
    "acc_starts_df = pd.concat(acc_starts_dfs)\n",
    "nr_groups_start_df = pd.concat(nr_groups_start_dfs)"
   ]
  },
  {
   "cell_type": "markdown",
   "metadata": {},
   "source": [
    "### Convergence"
   ]
  },
  {
   "cell_type": "code",
   "execution_count": 19,
   "metadata": {},
   "outputs": [
    {
     "name": "stderr",
     "output_type": "stream",
     "text": [
      "/Users/shlomi/.local/share/virtualenvs/performative-prediction-stateful-world-Ne0_ixYe/lib/python3.7/site-packages/pandas/core/indexing.py:1745: SettingWithCopyWarning: \n",
      "A value is trying to be set on a copy of a slice from a DataFrame.\n",
      "Try using .loc[row_indexer,col_indexer] = value instead\n",
      "\n",
      "See the caveats in the documentation: https://pandas.pydata.org/pandas-docs/stable/user_guide/indexing.html#returning-a-view-versus-a-copy\n",
      "  isetter(ilocs[0], value)\n",
      "No handles with labels found to put in legend.\n"
     ]
    },
    {
     "data": {
      "image/png": "[encoded data removed]",
      "text/plain": [
       "<Figure size 1085.35x216 with 3 Axes>"
      ]
     },
     "metadata": {
      "needs_background": "light"
     },
     "output_type": "display_data"
    }
   ],
   "source": [
    "# theta_gaps_df = (pd.concat([create_long_df(theta_gaps, 'gap')\n",
    "#                             .assign(Algorithm='RRM'),\n",
    "#                            create_long_df(dtheta_gaps, 'gap', is_training_step=True)\n",
    "#                             .assign(Algorithm='$k$-Delayed RRM')])\n",
    "#                  .rename({'epsilon': EPSILON_COL}, axis=1))\n",
    "\n",
    "\n",
    "gap_data = theta_gaps_df[(theta_gaps_df[EPSILON_COL].isin(['1.0', '25.0', '75.0']))\n",
    "                         & (theta_gaps_df['num_groups'] == '3')\n",
    "                         & (theta_gaps_df['step'] < 50)]\n",
    "gap_data.loc[:, EPSILON_COL] = gap_data[EPSILON_COL].str[:-2]\n",
    "\n",
    "gap_data = gap_data.reset_index(drop=True)\n",
    "\n",
    "g = sns.relplot(x='step', y='gap',\n",
    "            style='Algorithm',\n",
    "            hue='Algorithm',\n",
    "            col=EPSILON_COL,\n",
    "            height=3, aspect=1.5,\n",
    "            kind='line', data=gap_data)\n",
    "\n",
    "g.set(yscale='log',\n",
    "      xlabel='Retraining round',\n",
    "      ylabel=r'Distance between $\\theta$s')\n",
    "\n",
    "\n",
    "plt.legend(loc='center left', bbox_to_anchor=(1.55, 0.5), frameon=False)\n",
    "plt.tight_layout()\n",
    "plt.savefig(f'./figures/convergence-{random_seed}.png', dpi=300)"
   ]
  },
  {
   "cell_type": "markdown",
   "metadata": {},
   "source": [
    "### Institution Utility"
   ]
  },
  {
   "cell_type": "code",
   "execution_count": 20,
   "metadata": {},
   "outputs": [
    {
     "name": "stderr",
     "output_type": "stream",
     "text": [
      "/Users/shlomi/.local/share/virtualenvs/performative-prediction-stateful-world-Ne0_ixYe/lib/python3.7/site-packages/ipykernel_launcher.py:13: SettingWithCopyWarning: \n",
      "A value is trying to be set on a copy of a slice from a DataFrame.\n",
      "Try using .loc[row_indexer,col_indexer] = value instead\n",
      "\n",
      "See the caveats in the documentation: https://pandas.pydata.org/pandas-docs/stable/user_guide/indexing.html#returning-a-view-versus-a-copy\n",
      "  del sys.path[0]\n",
      "No handles with labels found to put in legend.\n"
     ]
    },
    {
     "data": {
      "image/png": "[encoded data removed]",
      "text/plain": [
       "<Figure size 923.296x216 with 2 Axes>"
      ]
     },
     "metadata": {
      "needs_background": "light"
     },
     "output_type": "display_data"
    }
   ],
   "source": [
    "# acc_starts_df = (pd.concat([create_long_df(acc_starts, 'Accuracy (%)')\n",
    "#                             .assign(Algorithm='RRM'),\n",
    "#                             create_long_df(dacc_starts, 'Accuracy (%)', is_training_step=False)\n",
    "#                             .assign(Algorithm='$k$-Delayed RRM')])\n",
    "#                 .rename({'epsilon': VALUE_OF_EPSILON} , axis=1))\n",
    "\n",
    "acc_starts_df['Accuracy (%)'] *= 100\n",
    "\n",
    "acc_data = acc_starts_df[((acc_starts_df['num_groups'] == '3')\n",
    "                         & (acc_starts_df[VALUE_OF_EPSILON].isin(['1.0', '25.0', '75.0']))\n",
    "                         & (acc_starts_df['step'] < 50))]\n",
    "\n",
    "acc_data[VALUE_OF_EPSILON] = acc_data[VALUE_OF_EPSILON].str[:-2]\n",
    "\n",
    "acc_data = acc_data.reset_index(drop=True)\n",
    "\n",
    "\n",
    "g = sns.relplot(x='step', y='Accuracy (%)',\n",
    "            hue=VALUE_OF_EPSILON,\n",
    "            style=VALUE_OF_EPSILON,\n",
    "            col='Algorithm',\n",
    "            height=3, aspect=2,  \n",
    "            kind='line', data=acc_data)\n",
    "\n",
    "\n",
    "g.set(xlabel='Round $t$')\n",
    "\n",
    "plt.legend(loc='center left', bbox_to_anchor=(1.2, 0.5), frameon=False)\n",
    "plt.tight_layout()\n",
    "plt.savefig(f'./figures/institution-utility-start.png', dpi=300)"
   ]
  },
  {
   "cell_type": "markdown",
   "metadata": {},
   "source": [
    "### Per-Group Analysis"
   ]
  },
  {
   "cell_type": "code",
   "execution_count": 21,
   "metadata": {},
   "outputs": [
    {
     "name": "stderr",
     "output_type": "stream",
     "text": [
      "No handles with labels found to put in legend.\n"
     ]
    },
    {
     "data": {
      "image/png": "[encoded data removed]",
      "text/plain": [
       "<Figure size 906.375x216 with 2 Axes>"
      ]
     },
     "metadata": {
      "needs_background": "light"
     },
     "output_type": "display_data"
    }
   ],
   "source": [
    "nr_groups_start_df['Negative Rate (%)'] *= 100\n",
    "\n",
    "nr_group_start_data = nr_groups_start_df[((nr_groups_start_df['num_groups'] == '3')\n",
    "                                         & (nr_groups_start_df['step'] < 25)\n",
    "                                         & (nr_groups_start_df[r'$\\varepsilon$'].isin(['25.0'])))]\n",
    "                                         \n",
    "nr_group_start_data = nr_group_start_data.reset_index(drop=True)\n",
    "\n",
    "    \n",
    "g = sns.relplot(x='step', y='Negative Rate (%)',\n",
    "            hue='Group', \n",
    "            style='Group',\n",
    "            col='Algorithm',\n",
    "            height=3, aspect=2,  \n",
    "            kind='line', data=nr_group_start_data)\n",
    "\n",
    "                                         \n",
    "g.set(xlabel='Round $t$')\n",
    "\n",
    "plt.legend(loc='center left', bbox_to_anchor=(1.15, 0.5), frameon=False)\n",
    "plt.tight_layout()\n",
    "plt.savefig(f'./figures/pergroup-nr-start.png', dpi=300)"
   ]
  },
  {
   "cell_type": "code",
   "execution_count": 22,
   "metadata": {},
   "outputs": [
    {
     "name": "stdout",
     "output_type": "stream",
     "text": [
      "RRM - Group Adventage Ration: Group\n",
      "1    1.0258\n",
      "2    1.0094\n",
      "3    1.0000\n",
      "Name: Negative Rate (%), dtype: float64\n",
      "\n",
      "$k$-Delayed RRM - Group Adventage Ration: Group\n",
      "1    1.0269\n",
      "2    1.0104\n",
      "3    1.0000\n",
      "Name: Negative Rate (%), dtype: float64\n",
      "\n"
     ]
    }
   ],
   "source": [
    "for algorithm in ['RRM', '$k$-Delayed RRM']:\n",
    "    nr_delayed_begining_data = nr_group_start_data[(nr_group_start_data['step'] < 10)\n",
    "                                            & (nr_group_start_data['Algorithm'] == algorithm)]\n",
    "    nr_cum_goupby = nr_delayed_begining_data.groupby('Group')['Negative Rate (%)'].sum()\n",
    "    \n",
    "    print(f'{algorithm} - Group Adventage Ration:',\n",
    "          (nr_cum_goupby/nr_cum_goupby.iloc[2]).round(4))\n",
    "    print()"
   ]
  },
  {
   "cell_type": "code",
   "execution_count": null,
   "metadata": {},
   "outputs": [],
   "source": []
  },
  {
   "cell_type": "code",
   "execution_count": null,
   "metadata": {},
   "outputs": [],
   "source": []
  },
  {
   "cell_type": "code",
   "execution_count": null,
   "metadata": {},
   "outputs": [],
   "source": []
  }
 ],
 "metadata": {
  "kernel_info": {
   "name": "python3"
  },
  "kernelspec": {
   "display_name": "Python 3",
   "language": "python",
   "name": "python3"
  },
  "language_info": {
   "codemirror_mode": {
    "name": "ipython",
    "version": 3
   },
   "file_extension": ".py",
   "mimetype": "text/x-python",
   "name": "python",
   "nbconvert_exporter": "python",
   "pygments_lexer": "ipython3",
   "version": "3.7.5"
  },
  "nteract": {
   "version": "0.12.3"
  }
 },
 "nbformat": 4,
 "nbformat_minor": 4
}
