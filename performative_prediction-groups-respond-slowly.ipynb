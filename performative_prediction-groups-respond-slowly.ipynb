{
 "cells": [
  {
   "cell_type": "markdown",
   "metadata": {},
   "source": [
    "# Performative Prediction: A Case Study in Strategic Classification\n",
    "# $k$ Groups Repond Slowly\n",
    "\n",
    "Based on: https://github.com/zykls/whynot/tree/master/examples/dynamic_decisions"
   ]
  },
  {
   "cell_type": "code",
   "execution_count": 1,
   "metadata": {},
   "outputs": [],
   "source": [
    "%load_ext autoreload\n",
    "%autoreload 2\n",
    "\n",
    "import pickle\n",
    "from pathlib import Path\n",
    "from collections import defaultdict\n",
    "\n",
    "import numpy as np\n",
    "import pandas as pd\n",
    "import matplotlib.pyplot as plt\n",
    "import seaborn as sns\n",
    "from tqdm import trange\n",
    "\n",
    "import whynot as wn\n",
    "import whynot.gym as gym\n",
    "\n",
    "import scripts.utils as utils\n",
    "\n",
    "%matplotlib inline"
   ]
  },
  {
   "cell_type": "code",
   "execution_count": 2,
   "metadata": {},
   "outputs": [],
   "source": [
    "DEMO_N_GROUPS = 3\n",
    "\n",
    "EPSILON_COL = r'$\\varepsilon$'\n",
    "VALUE_OF_EPSILON = f'Value of {EPSILON_COL}'"
   ]
  },
  {
   "cell_type": "markdown",
   "metadata": {},
   "source": [
    "## Setting up the strategic classification environment\n",
    "\n",
    "We use the [credit simulator](https://whynot.readthedocs.io/en/latest/simulators.html#credit-simulator), which is a strategic classification simulator based on the Kaggle [*Give Me Some Credit* dataset](https://www.kaggle.com/c/GiveMeSomeCredit)."
   ]
  },
  {
   "cell_type": "code",
   "execution_count": 3,
   "metadata": {
    "scrolled": true
   },
   "outputs": [],
   "source": [
    "envs = []\n",
    "for _ in range(DEMO_N_GROUPS):\n",
    "    env = gym.make('Credit-v0')\n",
    "    env.seed(1)\n",
    "    envs.append(env)"
   ]
  },
  {
   "cell_type": "code",
   "execution_count": 4,
   "metadata": {},
   "outputs": [],
   "source": [
    "def get_data(datasets, combine=True):\n",
    "    features, labels = zip(*((dataset['features'], dataset['labels']) for dataset in datasets))\n",
    "    if combine:\n",
    "        features = np.vstack(features)\n",
    "        labels = np.hstack(labels)\n",
    "    return features, labels"
   ]
  },
  {
   "cell_type": "markdown",
   "metadata": {},
   "source": [
    "## Training a baseline logistic regression classifier\n",
    "\n",
    "The state of the environment is a dataset consisting of (1) financial features of individuals, e.g. `DebtRatio`, and (2) a binary label indicating whether an individual experienced financial distress in the subsequent two years. "
   ]
  },
  {
   "cell_type": "code",
   "execution_count": 5,
   "metadata": {},
   "outputs": [
    {
     "name": "stdout",
     "output_type": "stream",
     "text": [
      "The dataset has 55071 agents and 11 features.\n",
      "Base rate: 0.4552486789780465\n"
     ]
    }
   ],
   "source": [
    "base_datasets = (env.initial_state.values() for env in envs)\n",
    "base_features, base_labels = get_data(base_datasets)\n",
    "num_agents, num_features = base_features.shape\n",
    "print(f\"The dataset has {num_agents} agents and {num_features} features.\")\n",
    "print(\"Base rate:\", base_labels.mean())"
   ]
  },
  {
   "cell_type": "markdown",
   "metadata": {},
   "source": [
    "Fit a logistic regression model to the data"
   ]
  },
  {
   "cell_type": "code",
   "execution_count": 6,
   "metadata": {},
   "outputs": [
    {
     "name": "stdout",
     "output_type": "stream",
     "text": [
      "Baseline logistic regresion model accuracy: 72.07%\n"
     ]
    }
   ],
   "source": [
    "l2_penalty = 1.0 / num_agents\n",
    "baseline_theta = utils.fit_logistic_regression(base_features, base_labels, l2_penalty)\n",
    "baseline_acc = ((base_features.dot(baseline_theta) > 0)  == base_labels).mean()\n",
    "print(f\"Baseline logistic regresion model accuracy: {100 * baseline_acc:.2f}%\")"
   ]
  },
  {
   "cell_type": "code",
   "execution_count": 7,
   "metadata": {},
   "outputs": [
    {
     "data": {
      "text/plain": [
       "1.7497371719683321"
      ]
     },
     "execution_count": 7,
     "metadata": {},
     "output_type": "execute_result"
    }
   ],
   "source": [
    "np.abs(baseline_theta).max()"
   ]
  },
  {
   "cell_type": "markdown",
   "metadata": {},
   "source": [
    "## Running repeated risk minimization\n",
    "\n",
    "Using the credit environment, we simulate repeated retraining of the logistic regression model in response to\n",
    "strategic distribution shift. We perform `num_iters` rounds. In each round:\n",
    "1. We train an logistic regression classifier on the current set of features\n",
    "2. The classifier is deployed via `env.step(theta)`\n",
    "3. In the environment, individuals react strategically to the deployed classifier, and the environment returns a new set of fetaures for the next round.\n",
    "\n",
    "The parameter `epsilon` changes the strength of the strategic response. Higher values of epsilon correspond to proportionally more strategic distribution shift. Each run is warm-started with the `baseline_theta` classifier computed without strategic response."
   ]
  },
  {
   "cell_type": "code",
   "execution_count": 8,
   "metadata": {},
   "outputs": [],
   "source": [
    "def update_start_stats_inplace(observations, theta, l2_penalty,\n",
    "                               loss_start, acc_start, loss_groups_start, acc_groups_start,\n",
    "                               fpr_groups_start, nr_groups_start):\n",
    "\n",
    "    features_start, labels = get_data(observations)\n",
    "    observations_groups = get_data(observations, combine=False)\n",
    "\n",
    "    # Evaluate loss and accuracy on the new distribution\n",
    "    loss_start.append(\n",
    "        utils.evaluate_logistic_loss(features_start, labels, theta, l2_penalty))\n",
    "    acc_start.append(\n",
    "        ((features_start.dot(theta) > 0) == labels).mean()\n",
    "    )\n",
    "\n",
    "    # Evaluate per-group loss, accurcay, FPR and NR on the new distribution\n",
    "    loss_groups_start.append(\n",
    "        [utils.evaluate_logistic_loss(group_features, group_labels, theta, l2_penalty)\n",
    "         for group_features, group_labels in zip(*observations_groups)])\n",
    "\n",
    "    acc_groups_start.append(\n",
    "        [((group_features.dot(theta) > 0) == group_labels).mean()\n",
    "         for group_features, group_labels in zip(*observations_groups)])\n",
    "\n",
    "    fpr_groups_start.append(\n",
    "        [(\n",
    "            ((group_features.dot(theta) > 0) & (group_labels == 0)).sum()  # FP\n",
    "            / (group_labels == 0).sum())  # FP + TN\n",
    "         for group_features, group_labels in zip(*observations_groups)])\n",
    "\n",
    "    nr_groups_start.append(\n",
    "        [(group_features.dot(theta) < 0).mean()\n",
    "         for group_features, group_labels in zip(*observations_groups)])\n",
    "    \n",
    "    return features_start, labels, observations_groups"
   ]
  },
  {
   "cell_type": "code",
   "execution_count": 9,
   "metadata": {},
   "outputs": [],
   "source": [
    "def build_world(num_groups, epsilon, random_state):\n",
    "    \n",
    "    local_envs = []\n",
    "    initial_observations = []\n",
    "    \n",
    "    rng = np.random.default_rng(random_state)\n",
    "    \n",
    "    for _ in range(num_groups):\n",
    "        env = gym.make('Credit-v0')\n",
    "        env.config.epsilon = epsilon\n",
    "        env.reset()\n",
    "                \n",
    "        if random_state is None:\n",
    "            obs = {'features': env.env.initial_state.features,\n",
    "                   'labels': env.env.initial_state.labels}\n",
    "        else:\n",
    "            n_rows = len(env.env.state.labels)\n",
    "            initial_indices = rng.choice(np.arange(n_rows), n_rows, replace=True)\n",
    "            obs = {'features': env.env.initial_state.features[initial_indices, :],\n",
    "                   'labels': env.env.initial_state.labels[initial_indices]}\n",
    "        \n",
    "        local_envs.append(env)\n",
    "        initial_observations.append(obs)\n",
    "    \n",
    "\n",
    "    return local_envs, initial_observations"
   ]
  },
  {
   "cell_type": "code",
   "execution_count": 10,
   "metadata": {},
   "outputs": [],
   "source": [
    "def repeated_risk_minimization(epsilon, num_groups, num_steps, is_delayed, random_state):\n",
    "    \"\"\"Run repeated risk minimization for num_iters steps\"\"\"\n",
    "\n",
    "    local_envs, observations = build_world(num_groups, epsilon, random_state)\n",
    "\n",
    "    # 1. Trach theta gap \n",
    "    # 2. Track loss and accuracy before/after updating model on new distribution\n",
    "    # 3. Trach per-group loss, accurcay, FPR and NR before updating model on new distribution\n",
    "    loss_start, loss_end, acc_start, acc_end, thetas, theta_gap = [], [], [], [], [], []\n",
    "    loss_groups_start, loss_groups_end, acc_groups_start, fpr_groups_start, nr_groups_start = [], [], [], [], []\n",
    "\n",
    "    # Compute baseline classifier\n",
    "    base_features, base_labels = get_data(observations)\n",
    "    num_agents, num_features = base_features.shape\n",
    "    l2_penalty = 1.0 / num_agents\n",
    "    baseline_theta = utils.fit_logistic_regression(base_features, base_labels, l2_penalty)\n",
    "\n",
    "    # Warm-start with baseline classifier\n",
    "    theta = np.copy(baseline_theta)\n",
    "    thetas.append(theta)\n",
    "    \n",
    "    # Set l2 penalty\n",
    "    for env in local_envs:\n",
    "        env.config.l2_penalty = l2_penalty\n",
    "    \n",
    "    update_start_stats_inplace(observations, theta, l2_penalty,\n",
    "                                   loss_start, acc_start, loss_groups_start, acc_groups_start,\n",
    "                                   fpr_groups_start, nr_groups_start)\n",
    "\n",
    "    for step in trange(num_steps):\n",
    "        \n",
    "        # Update the latest group\n",
    "        # and shift backward\n",
    "        observations = observations[1:] + observations[0:1]\n",
    "        local_envs = local_envs[1:] + local_envs[0:1]\n",
    "        observations[-1], _, _, _ = local_envs[-1].step(theta)\n",
    "\n",
    "        features_start, labels, observations_groups = update_start_stats_inplace(observations, theta, l2_penalty,\n",
    "                                       loss_start, acc_start, loss_groups_start, acc_groups_start,\n",
    "                                       fpr_groups_start, nr_groups_start)\n",
    "\n",
    "\n",
    "        # Update classifier if (1) the algoirthm is RRM (not delayd);\n",
    "        # or (2) it is the k-th iteration in Delayd RRM\n",
    "        if not is_delayed or step % num_groups == 0:\n",
    "            # Learn a new model on the induced distribution\n",
    "            theta_new = utils.fit_logistic_regression(features_start, labels, l2_penalty,\n",
    "                                                      theta_init=np.copy(theta))\n",
    "        \n",
    "        # Evaluate loss and accuracy on the strategic distribution after training\n",
    "        loss_end.append(\n",
    "            utils.evaluate_logistic_loss(features_start, labels, theta_new, l2_penalty)\n",
    "        )\n",
    "        acc_end.append(\n",
    "            ((features_start.dot(theta_new) > 0) == labels).mean()\n",
    "        )\n",
    "        loss_groups_end.append(\n",
    "            [utils.evaluate_logistic_loss(group_features, group_labels, theta_new, l2_penalty)\n",
    "             for group_features, group_labels in zip(*observations_groups)])\n",
    "\n",
    "        \n",
    "        # Track distance between iterates\n",
    "        theta_gap.append(np.linalg.norm(theta_new - theta))\n",
    "        \n",
    "        theta = np.copy(theta_new)\n",
    "        \n",
    "        thetas.append(theta)\n",
    "        \n",
    "    return (loss_start, loss_end, acc_start, acc_end, thetas, theta_gap,\n",
    "            loss_groups_start, loss_groups_end, acc_groups_start, fpr_groups_start, nr_groups_start)"
   ]
  },
  {
   "cell_type": "code",
   "execution_count": 11,
   "metadata": {},
   "outputs": [],
   "source": [
    "def run_rrm_experiment(epsilon_list, num_groups_list, num_iters, is_delayed, random_state):\n",
    "\n",
    "    loss_starts, acc_starts, loss_ends, acc_ends, thetas_, theta_gaps = (defaultdict(dict), defaultdict(dict),\n",
    "                                                                defaultdict(dict), defaultdict(dict),\n",
    "                                                                defaultdict(dict), defaultdict(dict))\n",
    "    loss_groups_starts, loss_groups_ends, acc_groups_starts, fpr_groups_starts, nr_groups_starts = (defaultdict(dict), defaultdict(dict),\n",
    "                                                                                  defaultdict(dict), defaultdict(dict),\n",
    "                                                                                  defaultdict(dict))\n",
    "\n",
    "    for num_groups in num_groups_list:\n",
    "        for _, epsilon in enumerate(epsilon_list):\n",
    "            print(f'Running retraining for num_groups {num_groups} epsilon {epsilon:.2f}')\n",
    "\n",
    "            (loss_start, loss_end, acc_start, acc_end, thetas, theta_gap,\n",
    "             loss_groups_start, loss_groups_end, acc_groups_start,\n",
    "             fpr_groups_start, nr_groups_start) = repeated_risk_minimization(epsilon, num_groups,\n",
    "                                                                             num_iters, is_delayed,\n",
    "                                                                             random_state)\n",
    "\n",
    "            loss_starts[num_groups][epsilon] = loss_start\n",
    "            loss_ends[num_groups][epsilon] = loss_end\n",
    "            \n",
    "            acc_starts[num_groups][epsilon] = acc_start\n",
    "            acc_ends[num_groups][epsilon] = acc_end\n",
    "            \n",
    "            thetas_[num_groups][epsilon] = thetas\n",
    "            theta_gaps[num_groups][epsilon] = theta_gap\n",
    "            \n",
    "            loss_groups_starts[num_groups][epsilon] = loss_groups_start\n",
    "            loss_groups_ends[num_groups][epsilon] = loss_groups_end\n",
    "            \n",
    "            acc_groups_starts[num_groups][epsilon] = acc_groups_start\n",
    "            fpr_groups_starts[num_groups][epsilon] = fpr_groups_start\n",
    "            nr_groups_starts[num_groups][epsilon] = nr_groups_start\n",
    "        \n",
    "    return (loss_starts, acc_starts, loss_ends, acc_ends,\n",
    "            thetas_, theta_gaps, loss_groups_starts, loss_groups_ends,\n",
    "            acc_groups_starts, fpr_groups_starts, nr_groups_starts)"
   ]
  },
  {
   "cell_type": "code",
   "execution_count": 12,
   "metadata": {},
   "outputs": [
    {
     "name": "stdout",
     "output_type": "stream",
     "text": [
      "\tseed=None\n",
      "\t\tmode=regular\n",
      "Running retraining for num_groups 3 epsilon 1.00\n"
     ]
    },
    {
     "name": "stderr",
     "output_type": "stream",
     "text": [
      "100%|██████████| 300/300 [00:18<00:00, 16.19it/s]\n"
     ]
    },
    {
     "name": "stdout",
     "output_type": "stream",
     "text": [
      "Running retraining for num_groups 3 epsilon 25.00\n"
     ]
    },
    {
     "name": "stderr",
     "output_type": "stream",
     "text": [
      "100%|██████████| 300/300 [00:28<00:00, 10.55it/s]\n"
     ]
    },
    {
     "name": "stdout",
     "output_type": "stream",
     "text": [
      "Running retraining for num_groups 3 epsilon 75.00\n"
     ]
    },
    {
     "name": "stderr",
     "output_type": "stream",
     "text": [
      "100%|██████████| 300/300 [00:58<00:00,  5.09it/s]\n"
     ]
    },
    {
     "name": "stdout",
     "output_type": "stream",
     "text": [
      "\t\tDone!\n",
      "\t\tmode=delayed\n",
      "Running retraining for num_groups 3 epsilon 1.00\n"
     ]
    },
    {
     "name": "stderr",
     "output_type": "stream",
     "text": [
      "100%|██████████| 300/300 [00:36<00:00,  8.23it/s]\n"
     ]
    },
    {
     "name": "stdout",
     "output_type": "stream",
     "text": [
      "Running retraining for num_groups 3 epsilon 25.00\n"
     ]
    },
    {
     "name": "stderr",
     "output_type": "stream",
     "text": [
      "100%|██████████| 300/300 [00:57<00:00,  5.19it/s]\n"
     ]
    },
    {
     "name": "stdout",
     "output_type": "stream",
     "text": [
      "Running retraining for num_groups 3 epsilon 75.00\n"
     ]
    },
    {
     "name": "stderr",
     "output_type": "stream",
     "text": [
      "100%|██████████| 300/300 [01:07<00:00,  4.46it/s]\n"
     ]
    },
    {
     "name": "stdout",
     "output_type": "stream",
     "text": [
      "\t\tDone!\n",
      "\tseed=191664963\n",
      "\t\tmode=regular\n",
      "Running retraining for num_groups 3 epsilon 1.00\n"
     ]
    },
    {
     "name": "stderr",
     "output_type": "stream",
     "text": [
      "100%|██████████| 300/300 [00:41<00:00,  7.29it/s]\n"
     ]
    },
    {
     "name": "stdout",
     "output_type": "stream",
     "text": [
      "Running retraining for num_groups 3 epsilon 25.00\n"
     ]
    },
    {
     "name": "stderr",
     "output_type": "stream",
     "text": [
      "100%|██████████| 300/300 [00:54<00:00,  5.55it/s]\n"
     ]
    },
    {
     "name": "stdout",
     "output_type": "stream",
     "text": [
      "Running retraining for num_groups 3 epsilon 75.00\n"
     ]
    },
    {
     "name": "stderr",
     "output_type": "stream",
     "text": [
      "100%|██████████| 300/300 [01:53<00:00,  2.65it/s]\n"
     ]
    },
    {
     "name": "stdout",
     "output_type": "stream",
     "text": [
      "\t\tDone!\n",
      "\t\tmode=delayed\n",
      "Running retraining for num_groups 3 epsilon 1.00\n"
     ]
    },
    {
     "name": "stderr",
     "output_type": "stream",
     "text": [
      "100%|██████████| 300/300 [01:01<00:00,  4.91it/s]\n"
     ]
    },
    {
     "name": "stdout",
     "output_type": "stream",
     "text": [
      "Running retraining for num_groups 3 epsilon 25.00\n"
     ]
    },
    {
     "name": "stderr",
     "output_type": "stream",
     "text": [
      "100%|██████████| 300/300 [00:41<00:00,  7.27it/s]\n"
     ]
    },
    {
     "name": "stdout",
     "output_type": "stream",
     "text": [
      "Running retraining for num_groups 3 epsilon 75.00\n"
     ]
    },
    {
     "name": "stderr",
     "output_type": "stream",
     "text": [
      "100%|██████████| 300/300 [02:26<00:00,  2.04it/s]\n"
     ]
    },
    {
     "name": "stdout",
     "output_type": "stream",
     "text": [
      "\t\tDone!\n",
      "\tseed=1662057957\n",
      "\t\tmode=regular\n",
      "Running retraining for num_groups 3 epsilon 1.00\n"
     ]
    },
    {
     "name": "stderr",
     "output_type": "stream",
     "text": [
      "100%|██████████| 300/300 [00:36<00:00,  8.13it/s]\n"
     ]
    },
    {
     "name": "stdout",
     "output_type": "stream",
     "text": [
      "Running retraining for num_groups 3 epsilon 25.00\n"
     ]
    },
    {
     "name": "stderr",
     "output_type": "stream",
     "text": [
      "100%|██████████| 300/300 [00:44<00:00,  6.79it/s]\n"
     ]
    },
    {
     "name": "stdout",
     "output_type": "stream",
     "text": [
      "Running retraining for num_groups 3 epsilon 75.00\n"
     ]
    },
    {
     "name": "stderr",
     "output_type": "stream",
     "text": [
      "100%|██████████| 300/300 [02:09<00:00,  2.32it/s]\n"
     ]
    },
    {
     "name": "stdout",
     "output_type": "stream",
     "text": [
      "\t\tDone!\n",
      "\t\tmode=delayed\n",
      "Running retraining for num_groups 3 epsilon 1.00\n"
     ]
    },
    {
     "name": "stderr",
     "output_type": "stream",
     "text": [
      "100%|██████████| 300/300 [00:39<00:00,  7.53it/s]\n"
     ]
    },
    {
     "name": "stdout",
     "output_type": "stream",
     "text": [
      "Running retraining for num_groups 3 epsilon 25.00\n"
     ]
    },
    {
     "name": "stderr",
     "output_type": "stream",
     "text": [
      "100%|██████████| 300/300 [00:41<00:00,  7.26it/s]\n"
     ]
    },
    {
     "name": "stdout",
     "output_type": "stream",
     "text": [
      "Running retraining for num_groups 3 epsilon 75.00\n"
     ]
    },
    {
     "name": "stderr",
     "output_type": "stream",
     "text": [
      "100%|██████████| 300/300 [02:03<00:00,  2.42it/s]\n"
     ]
    },
    {
     "name": "stdout",
     "output_type": "stream",
     "text": [
      "\t\tDone!\n",
      "\tseed=1405681631\n",
      "\t\tmode=regular\n",
      "Running retraining for num_groups 3 epsilon 1.00\n"
     ]
    },
    {
     "name": "stderr",
     "output_type": "stream",
     "text": [
      "100%|██████████| 300/300 [00:39<00:00,  7.54it/s]\n"
     ]
    },
    {
     "name": "stdout",
     "output_type": "stream",
     "text": [
      "Running retraining for num_groups 3 epsilon 25.00\n"
     ]
    },
    {
     "name": "stderr",
     "output_type": "stream",
     "text": [
      "100%|██████████| 300/300 [00:47<00:00,  6.33it/s]\n"
     ]
    },
    {
     "name": "stdout",
     "output_type": "stream",
     "text": [
      "Running retraining for num_groups 3 epsilon 75.00\n"
     ]
    },
    {
     "name": "stderr",
     "output_type": "stream",
     "text": [
      "100%|██████████| 300/300 [01:24<00:00,  3.53it/s]\n"
     ]
    },
    {
     "name": "stdout",
     "output_type": "stream",
     "text": [
      "\t\tDone!\n",
      "\t\tmode=delayed\n",
      "Running retraining for num_groups 3 epsilon 1.00\n"
     ]
    },
    {
     "name": "stderr",
     "output_type": "stream",
     "text": [
      "100%|██████████| 300/300 [00:23<00:00, 12.80it/s]\n"
     ]
    },
    {
     "name": "stdout",
     "output_type": "stream",
     "text": [
      "Running retraining for num_groups 3 epsilon 25.00\n"
     ]
    },
    {
     "name": "stderr",
     "output_type": "stream",
     "text": [
      "100%|██████████| 300/300 [00:26<00:00, 11.21it/s]\n"
     ]
    },
    {
     "name": "stdout",
     "output_type": "stream",
     "text": [
      "Running retraining for num_groups 3 epsilon 75.00\n"
     ]
    },
    {
     "name": "stderr",
     "output_type": "stream",
     "text": [
      "100%|██████████| 300/300 [01:18<00:00,  3.80it/s]\n"
     ]
    },
    {
     "name": "stdout",
     "output_type": "stream",
     "text": [
      "\t\tDone!\n",
      "\tseed=942484272\n",
      "\t\tmode=regular\n",
      "Running retraining for num_groups 3 epsilon 1.00\n"
     ]
    },
    {
     "name": "stderr",
     "output_type": "stream",
     "text": [
      "100%|██████████| 300/300 [00:42<00:00,  7.03it/s]\n"
     ]
    },
    {
     "name": "stdout",
     "output_type": "stream",
     "text": [
      "Running retraining for num_groups 3 epsilon 25.00\n"
     ]
    },
    {
     "name": "stderr",
     "output_type": "stream",
     "text": [
      "100%|██████████| 300/300 [01:24<00:00,  3.54it/s]\n"
     ]
    },
    {
     "name": "stdout",
     "output_type": "stream",
     "text": [
      "Running retraining for num_groups 3 epsilon 75.00\n"
     ]
    },
    {
     "name": "stderr",
     "output_type": "stream",
     "text": [
      "100%|██████████| 300/300 [02:02<00:00,  2.46it/s]\n"
     ]
    },
    {
     "name": "stdout",
     "output_type": "stream",
     "text": [
      "\t\tDone!\n",
      "\t\tmode=delayed\n",
      "Running retraining for num_groups 3 epsilon 1.00\n"
     ]
    },
    {
     "name": "stderr",
     "output_type": "stream",
     "text": [
      "100%|██████████| 300/300 [00:34<00:00,  8.70it/s]\n"
     ]
    },
    {
     "name": "stdout",
     "output_type": "stream",
     "text": [
      "Running retraining for num_groups 3 epsilon 25.00\n"
     ]
    },
    {
     "name": "stderr",
     "output_type": "stream",
     "text": [
      "100%|██████████| 300/300 [00:39<00:00,  7.55it/s]\n"
     ]
    },
    {
     "name": "stdout",
     "output_type": "stream",
     "text": [
      "Running retraining for num_groups 3 epsilon 75.00\n"
     ]
    },
    {
     "name": "stderr",
     "output_type": "stream",
     "text": [
      "100%|██████████| 300/300 [01:32<00:00,  3.25it/s]\n"
     ]
    },
    {
     "name": "stdout",
     "output_type": "stream",
     "text": [
      "\t\tDone!\n",
      "\tseed=929893137\n",
      "\t\tmode=regular\n",
      "Running retraining for num_groups 3 epsilon 1.00\n"
     ]
    },
    {
     "name": "stderr",
     "output_type": "stream",
     "text": [
      "100%|██████████| 300/300 [00:35<00:00,  8.52it/s]\n"
     ]
    },
    {
     "name": "stdout",
     "output_type": "stream",
     "text": [
      "Running retraining for num_groups 3 epsilon 25.00\n"
     ]
    },
    {
     "name": "stderr",
     "output_type": "stream",
     "text": [
      "100%|██████████| 300/300 [00:43<00:00,  6.97it/s]\n"
     ]
    },
    {
     "name": "stdout",
     "output_type": "stream",
     "text": [
      "Running retraining for num_groups 3 epsilon 75.00\n"
     ]
    },
    {
     "name": "stderr",
     "output_type": "stream",
     "text": [
      "100%|██████████| 300/300 [01:28<00:00,  3.39it/s]\n"
     ]
    },
    {
     "name": "stdout",
     "output_type": "stream",
     "text": [
      "\t\tDone!\n",
      "\t\tmode=delayed\n",
      "Running retraining for num_groups 3 epsilon 1.00\n"
     ]
    },
    {
     "name": "stderr",
     "output_type": "stream",
     "text": [
      "100%|██████████| 300/300 [00:24<00:00, 12.25it/s]\n"
     ]
    },
    {
     "name": "stdout",
     "output_type": "stream",
     "text": [
      "Running retraining for num_groups 3 epsilon 25.00\n"
     ]
    },
    {
     "name": "stderr",
     "output_type": "stream",
     "text": [
      "100%|██████████| 300/300 [00:29<00:00, 10.05it/s]\n"
     ]
    },
    {
     "name": "stdout",
     "output_type": "stream",
     "text": [
      "Running retraining for num_groups 3 epsilon 75.00\n"
     ]
    },
    {
     "name": "stderr",
     "output_type": "stream",
     "text": [
      "100%|██████████| 300/300 [01:14<00:00,  4.00it/s]\n"
     ]
    },
    {
     "name": "stdout",
     "output_type": "stream",
     "text": [
      "\t\tDone!\n",
      "\tseed=1843824992\n",
      "\t\tmode=regular\n",
      "Running retraining for num_groups 3 epsilon 1.00\n"
     ]
    },
    {
     "name": "stderr",
     "output_type": "stream",
     "text": [
      "100%|██████████| 300/300 [00:42<00:00,  7.14it/s]\n"
     ]
    },
    {
     "name": "stdout",
     "output_type": "stream",
     "text": [
      "Running retraining for num_groups 3 epsilon 25.00\n"
     ]
    },
    {
     "name": "stderr",
     "output_type": "stream",
     "text": [
      "100%|██████████| 300/300 [00:53<00:00,  5.63it/s]\n"
     ]
    },
    {
     "name": "stdout",
     "output_type": "stream",
     "text": [
      "Running retraining for num_groups 3 epsilon 75.00\n"
     ]
    },
    {
     "name": "stderr",
     "output_type": "stream",
     "text": [
      "100%|██████████| 300/300 [01:32<00:00,  3.26it/s]\n"
     ]
    },
    {
     "name": "stdout",
     "output_type": "stream",
     "text": [
      "\t\tDone!\n",
      "\t\tmode=delayed\n",
      "Running retraining for num_groups 3 epsilon 1.00\n"
     ]
    },
    {
     "name": "stderr",
     "output_type": "stream",
     "text": [
      "100%|██████████| 300/300 [00:30<00:00,  9.97it/s]\n"
     ]
    },
    {
     "name": "stdout",
     "output_type": "stream",
     "text": [
      "Running retraining for num_groups 3 epsilon 25.00\n"
     ]
    },
    {
     "name": "stderr",
     "output_type": "stream",
     "text": [
      "100%|██████████| 300/300 [00:35<00:00,  8.39it/s]\n"
     ]
    },
    {
     "name": "stdout",
     "output_type": "stream",
     "text": [
      "Running retraining for num_groups 3 epsilon 75.00\n"
     ]
    },
    {
     "name": "stderr",
     "output_type": "stream",
     "text": [
      "100%|██████████| 300/300 [01:26<00:00,  3.45it/s]\n"
     ]
    },
    {
     "name": "stdout",
     "output_type": "stream",
     "text": [
      "\t\tDone!\n",
      "\tseed=184566854\n",
      "\t\tmode=regular\n",
      "Running retraining for num_groups 3 epsilon 1.00\n"
     ]
    },
    {
     "name": "stderr",
     "output_type": "stream",
     "text": [
      "100%|██████████| 300/300 [00:36<00:00,  8.13it/s]\n"
     ]
    },
    {
     "name": "stdout",
     "output_type": "stream",
     "text": [
      "Running retraining for num_groups 3 epsilon 25.00\n"
     ]
    },
    {
     "name": "stderr",
     "output_type": "stream",
     "text": [
      "100%|██████████| 300/300 [00:44<00:00,  6.69it/s]\n"
     ]
    },
    {
     "name": "stdout",
     "output_type": "stream",
     "text": [
      "Running retraining for num_groups 3 epsilon 75.00\n"
     ]
    },
    {
     "name": "stderr",
     "output_type": "stream",
     "text": [
      "100%|██████████| 300/300 [01:45<00:00,  2.84it/s]\n"
     ]
    },
    {
     "name": "stdout",
     "output_type": "stream",
     "text": [
      "\t\tDone!\n",
      "\t\tmode=delayed\n",
      "Running retraining for num_groups 3 epsilon 1.00\n"
     ]
    },
    {
     "name": "stderr",
     "output_type": "stream",
     "text": [
      "100%|██████████| 300/300 [00:28<00:00, 10.40it/s]\n"
     ]
    },
    {
     "name": "stdout",
     "output_type": "stream",
     "text": [
      "Running retraining for num_groups 3 epsilon 25.00\n"
     ]
    },
    {
     "name": "stderr",
     "output_type": "stream",
     "text": [
      "100%|██████████| 300/300 [00:33<00:00,  8.85it/s]\n"
     ]
    },
    {
     "name": "stdout",
     "output_type": "stream",
     "text": [
      "Running retraining for num_groups 3 epsilon 75.00\n"
     ]
    },
    {
     "name": "stderr",
     "output_type": "stream",
     "text": [
      "100%|██████████| 300/300 [01:23<00:00,  3.60it/s]\n"
     ]
    },
    {
     "name": "stdout",
     "output_type": "stream",
     "text": [
      "\t\tDone!\n",
      "\tseed=1497586438\n",
      "\t\tmode=regular\n",
      "Running retraining for num_groups 3 epsilon 1.00\n"
     ]
    },
    {
     "name": "stderr",
     "output_type": "stream",
     "text": [
      "100%|██████████| 300/300 [00:35<00:00,  8.44it/s]\n"
     ]
    },
    {
     "name": "stdout",
     "output_type": "stream",
     "text": [
      "Running retraining for num_groups 3 epsilon 25.00\n"
     ]
    },
    {
     "name": "stderr",
     "output_type": "stream",
     "text": [
      "100%|██████████| 300/300 [00:42<00:00,  7.03it/s]\n"
     ]
    },
    {
     "name": "stdout",
     "output_type": "stream",
     "text": [
      "Running retraining for num_groups 3 epsilon 75.00\n"
     ]
    },
    {
     "name": "stderr",
     "output_type": "stream",
     "text": [
      "100%|██████████| 300/300 [01:19<00:00,  3.75it/s]\n"
     ]
    },
    {
     "name": "stdout",
     "output_type": "stream",
     "text": [
      "\t\tDone!\n",
      "\t\tmode=delayed\n",
      "Running retraining for num_groups 3 epsilon 1.00\n"
     ]
    },
    {
     "name": "stderr",
     "output_type": "stream",
     "text": [
      "100%|██████████| 300/300 [00:23<00:00, 12.54it/s]\n"
     ]
    },
    {
     "name": "stdout",
     "output_type": "stream",
     "text": [
      "Running retraining for num_groups 3 epsilon 25.00\n"
     ]
    },
    {
     "name": "stderr",
     "output_type": "stream",
     "text": [
      "100%|██████████| 300/300 [00:29<00:00, 10.34it/s]\n"
     ]
    },
    {
     "name": "stdout",
     "output_type": "stream",
     "text": [
      "Running retraining for num_groups 3 epsilon 75.00\n"
     ]
    },
    {
     "name": "stderr",
     "output_type": "stream",
     "text": [
      "100%|██████████| 300/300 [01:13<00:00,  4.07it/s]\n"
     ]
    },
    {
     "name": "stdout",
     "output_type": "stream",
     "text": [
      "\t\tDone!\n",
      "\tseed=432652533\n",
      "\t\tmode=regular\n",
      "Running retraining for num_groups 3 epsilon 1.00\n"
     ]
    },
    {
     "name": "stderr",
     "output_type": "stream",
     "text": [
      "100%|██████████| 300/300 [00:45<00:00,  6.56it/s]\n"
     ]
    },
    {
     "name": "stdout",
     "output_type": "stream",
     "text": [
      "Running retraining for num_groups 3 epsilon 25.00\n"
     ]
    },
    {
     "name": "stderr",
     "output_type": "stream",
     "text": [
      "100%|██████████| 300/300 [00:56<00:00,  5.30it/s]\n"
     ]
    },
    {
     "name": "stdout",
     "output_type": "stream",
     "text": [
      "Running retraining for num_groups 3 epsilon 75.00\n"
     ]
    },
    {
     "name": "stderr",
     "output_type": "stream",
     "text": [
      "100%|██████████| 300/300 [01:59<00:00,  2.52it/s]\n"
     ]
    },
    {
     "name": "stdout",
     "output_type": "stream",
     "text": [
      "\t\tDone!\n",
      "\t\tmode=delayed\n",
      "Running retraining for num_groups 3 epsilon 1.00\n"
     ]
    },
    {
     "name": "stderr",
     "output_type": "stream",
     "text": [
      "100%|██████████| 300/300 [00:35<00:00,  8.51it/s]\n"
     ]
    },
    {
     "name": "stdout",
     "output_type": "stream",
     "text": [
      "Running retraining for num_groups 3 epsilon 25.00\n"
     ]
    },
    {
     "name": "stderr",
     "output_type": "stream",
     "text": [
      "100%|██████████| 300/300 [00:41<00:00,  7.31it/s]\n"
     ]
    },
    {
     "name": "stdout",
     "output_type": "stream",
     "text": [
      "Running retraining for num_groups 3 epsilon 75.00\n"
     ]
    },
    {
     "name": "stderr",
     "output_type": "stream",
     "text": [
      "100%|██████████| 300/300 [01:49<00:00,  2.75it/s] \n"
     ]
    },
    {
     "name": "stdout",
     "output_type": "stream",
     "text": [
      "\t\tDone!\n",
      "\tseed=202244314\n",
      "\t\tmode=regular\n",
      "Running retraining for num_groups 3 epsilon 1.00\n"
     ]
    },
    {
     "name": "stderr",
     "output_type": "stream",
     "text": [
      "100%|██████████| 300/300 [00:29<00:00, 10.10it/s]\n"
     ]
    },
    {
     "name": "stdout",
     "output_type": "stream",
     "text": [
      "Running retraining for num_groups 3 epsilon 25.00\n"
     ]
    },
    {
     "name": "stderr",
     "output_type": "stream",
     "text": [
      "100%|██████████| 300/300 [00:35<00:00,  8.38it/s]\n"
     ]
    },
    {
     "name": "stdout",
     "output_type": "stream",
     "text": [
      "Running retraining for num_groups 3 epsilon 75.00\n"
     ]
    },
    {
     "name": "stderr",
     "output_type": "stream",
     "text": [
      "100%|██████████| 300/300 [01:14<00:00,  4.04it/s]\n"
     ]
    },
    {
     "name": "stdout",
     "output_type": "stream",
     "text": [
      "\t\tDone!\n",
      "\t\tmode=delayed\n",
      "Running retraining for num_groups 3 epsilon 1.00\n"
     ]
    },
    {
     "name": "stderr",
     "output_type": "stream",
     "text": [
      "100%|██████████| 300/300 [00:21<00:00, 13.83it/s]\n"
     ]
    },
    {
     "name": "stdout",
     "output_type": "stream",
     "text": [
      "Running retraining for num_groups 3 epsilon 25.00\n"
     ]
    },
    {
     "name": "stderr",
     "output_type": "stream",
     "text": [
      "100%|██████████| 300/300 [00:26<00:00, 11.25it/s]\n"
     ]
    },
    {
     "name": "stdout",
     "output_type": "stream",
     "text": [
      "Running retraining for num_groups 3 epsilon 75.00\n"
     ]
    },
    {
     "name": "stderr",
     "output_type": "stream",
     "text": [
      "100%|██████████| 300/300 [01:10<00:00,  4.24it/s]\n"
     ]
    },
    {
     "name": "stdout",
     "output_type": "stream",
     "text": [
      "\t\tDone!\n",
      "Saving...\n",
      "Done!\n"
     ]
    }
   ],
   "source": [
    "path = Path('./data.pckl')\n",
    "epsilon_list = [1., 25., 75.]\n",
    "num_groups_list = [3]\n",
    "num_iters = 300\n",
    "N_INITS = 10\n",
    "\n",
    "\n",
    "if path.exists():\n",
    "    with open(path, 'rb') as f:\n",
    "        data = pickle.load(f)\n",
    "        \n",
    "else:\n",
    "    data = defaultdict(dict)\n",
    "    \n",
    "    seed_rng = np.random.default_rng(42)\n",
    "    seeds = [seed_rng.integers(low=0, high=2**31-1) for n in range(N_INITS)]\n",
    "    \n",
    "    for seed in [None] + seeds:\n",
    "        print(f'\\tseed={seed}')\n",
    "            \n",
    "        # RRM       k-Delayed RRM\n",
    "        for mode in ['regular', 'delayed']:\n",
    "            print(f'\\t\\tmode={mode}')\n",
    "            is_delayed = (mode == 'delayed')\n",
    "            (loss_starts, acc_starts, loss_ends, acc_ends, thetas_, theta_gaps,\n",
    "             loss_groups_starts, loss_groups_ends,\n",
    "             acc_groups_starts, fpr_groups_starts, nr_groups_starts) = run_rrm_experiment(epsilon_list,\n",
    "                                                                                          num_groups_list,\n",
    "                                                                                          num_iters,\n",
    "                                                                                          is_delayed,\n",
    "                                                                                          seed)\n",
    "            print('\\t\\tDone!')\n",
    "\n",
    "\n",
    "\n",
    "            data[seed][mode] = (loss_starts, acc_starts, loss_ends, acc_ends, thetas_, theta_gaps,\n",
    "                                loss_groups_starts, loss_groups_ends,\n",
    "                                acc_groups_starts, fpr_groups_starts, nr_groups_starts)\n",
    "\n",
    "    print(\"Saving...\")\n",
    "    with open(path, 'wb') as f:\n",
    "        pickle.dump(data, f)\n",
    "    print(\"Done!\")"
   ]
  },
  {
   "cell_type": "code",
   "execution_count": 13,
   "metadata": {},
   "outputs": [],
   "source": [
    "def create_long_df(tg, col, as_str=('epsilon', 'num_groups'), with_group=False, is_training_step=False):\n",
    "    if not with_group:\n",
    "        df = pd.DataFrame([{col: val, 'step': step, 'epsilon': epsilon, 'num_groups': num_groups}\n",
    "                             for num_groups, d_eps_gap in tg.items()\n",
    "                             for epsilon, gaps in d_eps_gap.items()\n",
    "                             for step, val in enumerate(gaps[::num_groups if is_training_step else 1])])\n",
    "    else:\n",
    "        df = pd.DataFrame([{col: val, 'step': step, 'epsilon': epsilon, 'group_num': num_groups-group_num, 'num_groups': num_groups}\n",
    "                             for num_groups, d_eps_grp_gap in tg.items()\n",
    "                             for epsilon, d_grp_gaps in d_eps_grp_gap.items()\n",
    "                             for step, gaps in enumerate(d_grp_gaps)\n",
    "                             for group_num, val in enumerate(gaps[::num_groups if is_training_step else 1])])\n",
    "\n",
    "    for c in as_str:\n",
    "        df[c] = df[c].astype(str)\n",
    "\n",
    "    return df"
   ]
  },
  {
   "cell_type": "code",
   "execution_count": 21,
   "metadata": {},
   "outputs": [],
   "source": [
    "theta_gaps_dfs = []\n",
    "acc_starts_dfs = []\n",
    "nr_groups_start_dfs = []\n",
    "\n",
    "for random_seed in data.keys():\n",
    "\n",
    "    (loss_starts, acc_starts, loss_ends, acc_ends, thetas_, theta_gaps,\n",
    "     loss_groups_starts, loss_groups_ends,\n",
    "     acc_groups_starts, fpr_groups_starts, nr_groups_starts) = data[random_seed]['regular']\n",
    "\n",
    "    (dloss_starts, dacc_starts, dloss_ends, dacc_ends, dthetas_, dtheta_gaps,\n",
    "     dloss_groups_starts, dloss_groups_ends,\n",
    "     dacc_groups_starts, dfpr_groups_starts, dnr_groups_starts) = data[random_seed]['delayed']\n",
    "    \n",
    "    \n",
    "    theta_gaps_dfs.append(pd.concat([create_long_df(theta_gaps, 'gap')\n",
    "                                     .assign(Algorithm='RRM'),\n",
    "                                     create_long_df(dtheta_gaps, 'gap', is_training_step=True)\n",
    "                                     .assign(Algorithm='$k$-Delayed RRM')])\n",
    "                          .rename({'epsilon': EPSILON_COL}, axis=1)\n",
    "                          .assign(random_seed=random_seed))\n",
    "    \n",
    "    \n",
    "    \n",
    "    acc_starts_dfs.append(pd.concat([create_long_df(acc_starts, 'Accuracy (%)')\n",
    "                                     .assign(Algorithm='RRM'),\n",
    "                                     create_long_df(dacc_starts, 'Accuracy (%)', is_training_step=False)\n",
    "                                     .assign(Algorithm='$k$-Delayed RRM')])\n",
    "                          .rename({'epsilon': VALUE_OF_EPSILON} , axis=1)\n",
    "                          .assign(random_seed=random_seed))\n",
    "\n",
    "    \n",
    "    nr_groups_start_dfs.append(pd.concat([create_long_df(nr_groups_starts, 'Negative Rate (%)',\n",
    "                                                         as_str=('epsilon', 'num_groups', 'group_num'), with_group=True)\n",
    "                                          .assign(Algorithm='RRM'),\n",
    "                                          create_long_df(dnr_groups_starts, 'Negative Rate (%)',\n",
    "                                                         as_str=('epsilon', 'num_groups', 'group_num'), with_group=True)\n",
    "                                          .assign(Algorithm='$k$-Delayed RRM')])\n",
    "                               .rename({'epsilon': EPSILON_COL, 'group_num': 'Group'}, axis=1)\n",
    "                               .assign(random_seed=random_seed))\n",
    "\n",
    "    \n",
    "theta_gaps_df = pd.concat(theta_gaps_dfs)\n",
    "acc_starts_df = pd.concat(acc_starts_dfs)\n",
    "nr_groups_start_df = pd.concat(nr_groups_start_dfs)\n",
    "\n",
    "acc_starts_df['Accuracy (%)'] *= 100\n",
    "nr_groups_start_df['Negative Rate (%)'] *= 100"
   ]
  },
  {
   "cell_type": "markdown",
   "metadata": {},
   "source": [
    "## Visualization"
   ]
  },
  {
   "cell_type": "code",
   "execution_count": 48,
   "metadata": {},
   "outputs": [],
   "source": [
    "sns.set_context('notebook', font_scale=1.5, rc={'lines.linewidth': 2.5})"
   ]
  },
  {
   "cell_type": "markdown",
   "metadata": {},
   "source": [
    "### Convergence"
   ]
  },
  {
   "cell_type": "code",
   "execution_count": 50,
   "metadata": {},
   "outputs": [],
   "source": [
    "def plot_convergence(random_init=False):\n",
    "    gap_data = theta_gaps_df[(theta_gaps_df[EPSILON_COL].isin(['1.0', '25.0', '75.0']))\n",
    "                             & (theta_gaps_df['num_groups'] == '3')\n",
    "                             & (theta_gaps_df['step'] < 50)]\n",
    "\n",
    "    random_init_mask = gap_data['random_seed'].apply(lambda x: x is None)\n",
    "    if random_init:\n",
    "        random_init_mask = ~random_init_mask\n",
    "    gap_data = gap_data[random_init_mask]\n",
    "    \n",
    "    gap_data.loc[:, EPSILON_COL] = gap_data[EPSILON_COL].str[:-2]\n",
    "\n",
    "    gap_data = gap_data.reset_index(drop=True)\n",
    "\n",
    "    kwargs = ({'style': 'Algorithm'}\n",
    "              if not random_init\n",
    "              else {'estimator': None, 'units': 'random_seed', 'alpha': .3})\n",
    "    \n",
    "    g = sns.relplot(x='step', y='gap',\n",
    "                hue='Algorithm',\n",
    "                col=EPSILON_COL,\n",
    "                height=3, aspect=1.5,\n",
    "                kind='line',\n",
    "                **kwargs,\n",
    "                data=gap_data)\n",
    "\n",
    "    g.set(yscale='log',\n",
    "          xlabel='Retraining round',\n",
    "          ylabel=r'Distance between $\\theta$s')\n",
    "\n",
    "\n",
    "    plt.legend(loc='center left', bbox_to_anchor=(1.55, 0.5), frameon=False)\n",
    "    plt.tight_layout()\n",
    "    plt.savefig(f'./figures/convergence-{random_init}.png', dpi=300)"
   ]
  },
  {
   "cell_type": "code",
   "execution_count": 51,
   "metadata": {},
   "outputs": [
    {
     "name": "stderr",
     "output_type": "stream",
     "text": [
      "No handles with labels found to put in legend.\n"
     ]
    },
    {
     "data": {
      "image/png": "[encoded data removed]",
      "text/plain": [
       "<Figure size 1157.65x216 with 3 Axes>"
      ]
     },
     "metadata": {
      "needs_background": "light"
     },
     "output_type": "display_data"
    }
   ],
   "source": [
    "plot_convergence(False)"
   ]
  },
  {
   "cell_type": "code",
   "execution_count": 52,
   "metadata": {},
   "outputs": [
    {
     "name": "stderr",
     "output_type": "stream",
     "text": [
      "No handles with labels found to put in legend.\n"
     ]
    },
    {
     "data": {
      "image/png": "[encoded data removed]",
      "text/plain": [
       "<Figure size 1157.65x216 with 3 Axes>"
      ]
     },
     "metadata": {
      "needs_background": "light"
     },
     "output_type": "display_data"
    }
   ],
   "source": [
    "plot_convergence(True)"
   ]
  },
  {
   "cell_type": "markdown",
   "metadata": {},
   "source": [
    "### Institution Utility"
   ]
  },
  {
   "cell_type": "code",
   "execution_count": 53,
   "metadata": {},
   "outputs": [],
   "source": [
    "def plot_institution_utility(random_init=False):\n",
    "\n",
    "    acc_data = acc_starts_df[((acc_starts_df['num_groups'] == '3')\n",
    "                             & (acc_starts_df[VALUE_OF_EPSILON].isin(['1.0', '25.0', '75.0']))\n",
    "                             & (acc_starts_df['step'] < 50))]\n",
    "\n",
    "    \n",
    "    random_init_mask = acc_data['random_seed'].apply(lambda x: x is None)\n",
    "    if random_init:\n",
    "        random_init_mask = ~random_init_mask\n",
    "    acc_data = acc_data[random_init_mask]\n",
    "                        \n",
    "    \n",
    "    acc_data[VALUE_OF_EPSILON] = acc_data[VALUE_OF_EPSILON].str[:-2]\n",
    "\n",
    "    acc_data = acc_data.reset_index(drop=True)\n",
    "\n",
    "    kwargs = ({'style': VALUE_OF_EPSILON}\n",
    "          if not random_init\n",
    "          else {'estimator': None, 'units': 'random_seed', 'alpha': .3})\n",
    "\n",
    "    g = sns.relplot(x='step', y='Accuracy (%)',\n",
    "                hue=VALUE_OF_EPSILON,\n",
    "                col='Algorithm',\n",
    "                height=3, aspect=2,  \n",
    "                kind='line',\n",
    "                **kwargs,\n",
    "                data=acc_data)\n",
    "\n",
    "\n",
    "    g.set(xlabel='Round $t$')\n",
    "\n",
    "    plt.legend(loc='center left', bbox_to_anchor=(1.2, 0.5), frameon=False)\n",
    "    plt.tight_layout()\n",
    "    plt.savefig(f'./figures/institution-utility-start-{random_init}.png', dpi=300)"
   ]
  },
  {
   "cell_type": "code",
   "execution_count": 54,
   "metadata": {},
   "outputs": [
    {
     "name": "stderr",
     "output_type": "stream",
     "text": [
      "No handles with labels found to put in legend.\n"
     ]
    },
    {
     "data": {
      "image/png": "[encoded data removed]",
      "text/plain": [
       "<Figure size 967.914x216 with 2 Axes>"
      ]
     },
     "metadata": {
      "needs_background": "light"
     },
     "output_type": "display_data"
    }
   ],
   "source": [
    "plot_institution_utility(False)"
   ]
  },
  {
   "cell_type": "code",
   "execution_count": 55,
   "metadata": {},
   "outputs": [
    {
     "name": "stderr",
     "output_type": "stream",
     "text": [
      "No handles with labels found to put in legend.\n"
     ]
    },
    {
     "data": {
      "image/png": "[encoded data removed]",
      "text/plain": [
       "<Figure size 967.914x216 with 2 Axes>"
      ]
     },
     "metadata": {
      "needs_background": "light"
     },
     "output_type": "display_data"
    }
   ],
   "source": [
    "plot_institution_utility(True)"
   ]
  },
  {
   "cell_type": "markdown",
   "metadata": {},
   "source": [
    "### Per-Group Analysis"
   ]
  },
  {
   "cell_type": "code",
   "execution_count": 56,
   "metadata": {},
   "outputs": [],
   "source": [
    "def plot_nr_group(random_init=False):\n",
    "\n",
    "    nr_group_start_data = nr_groups_start_df[((nr_groups_start_df['num_groups'] == '3')\n",
    "                                             & (nr_groups_start_df['step'] < 25)\n",
    "                                             & (nr_groups_start_df[r'$\\varepsilon$'].isin(['25.0'])))]\n",
    "\n",
    "    random_init_mask = nr_group_start_data['random_seed'].apply(lambda x: x is None)\n",
    "    if random_init:\n",
    "        random_init_mask = ~random_init_mask\n",
    "    nr_group_start_data = nr_group_start_data[random_init_mask]\n",
    "                        \n",
    "    nr_group_start_data = nr_group_start_data.reset_index(drop=True)\n",
    "\n",
    "    kwargs = ({'style': 'Group'}\n",
    "          if not random_init\n",
    "          else {'estimator': None, 'units': 'random_seed', 'alpha': .3})\n",
    "\n",
    "    \n",
    "    g = sns.relplot(x='step', y='Negative Rate (%)',\n",
    "                hue='Group', \n",
    "                col='Algorithm',\n",
    "                height=3, aspect=2,  \n",
    "                kind='line',\n",
    "                **kwargs,\n",
    "                data=nr_group_start_data)\n",
    "\n",
    "\n",
    "    g.set(xlabel='Round $t$')\n",
    "\n",
    "    plt.legend(loc='center left', bbox_to_anchor=(1.15, 0.5), frameon=False)\n",
    "    plt.tight_layout()\n",
    "    plt.savefig(f'./figures/pergroup-nr-start-{random_init}.png', dpi=300)"
   ]
  },
  {
   "cell_type": "code",
   "execution_count": 57,
   "metadata": {},
   "outputs": [
    {
     "name": "stderr",
     "output_type": "stream",
     "text": [
      "No handles with labels found to put in legend.\n"
     ]
    },
    {
     "data": {
      "image/png": "[encoded data removed]",
      "text/plain": [
       "<Figure size 933.9x216 with 2 Axes>"
      ]
     },
     "metadata": {
      "needs_background": "light"
     },
     "output_type": "display_data"
    }
   ],
   "source": [
    "plot_nr_group(False)"
   ]
  },
  {
   "cell_type": "code",
   "execution_count": 58,
   "metadata": {},
   "outputs": [
    {
     "name": "stderr",
     "output_type": "stream",
     "text": [
      "No handles with labels found to put in legend.\n"
     ]
    },
    {
     "data": {
      "image/png": "[encoded data removed]",
      "text/plain": [
       "<Figure size 933.9x216 with 2 Axes>"
      ]
     },
     "metadata": {
      "needs_background": "light"
     },
     "output_type": "display_data"
    }
   ],
   "source": [
    "plot_nr_group(True)"
   ]
  },
  {
   "cell_type": "code",
   "execution_count": 59,
   "metadata": {},
   "outputs": [
    {
     "name": "stdout",
     "output_type": "stream",
     "text": [
      "RRM - Group Adventage Ration: Group\n",
      "1    1.0266\n",
      "2    1.0088\n",
      "3    1.0000\n",
      "Name: Negative Rate (%), dtype: float64\n",
      "\n",
      "$k$-Delayed RRM - Group Adventage Ration: Group\n",
      "1    1.0279\n",
      "2    1.0110\n",
      "3    1.0000\n",
      "Name: Negative Rate (%), dtype: float64\n",
      "\n"
     ]
    }
   ],
   "source": [
    "for algorithm in ['RRM', '$k$-Delayed RRM']:\n",
    "    nr_delayed_begining_data = nr_group_start_data[(nr_group_start_data['step'] < 10)\n",
    "                                            & (nr_group_start_data['Algorithm'] == algorithm)]\n",
    "    nr_cum_goupby = nr_delayed_begining_data.groupby('Group')['Negative Rate (%)'].sum()\n",
    "    \n",
    "    print(f'{algorithm} - Group Adventage Ration:',\n",
    "          (nr_cum_goupby/nr_cum_goupby.iloc[2]).round(4))\n",
    "    print()"
   ]
  }
 ],
 "metadata": {
  "kernel_info": {
   "name": "python3"
  },
  "kernelspec": {
   "display_name": "Python 3",
   "language": "python",
   "name": "python3"
  },
  "nteract": {
   "version": "0.12.3"
  }
 },
 "nbformat": 4,
 "nbformat_minor": 4
}
